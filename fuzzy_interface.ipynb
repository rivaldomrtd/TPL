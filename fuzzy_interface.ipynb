{
  "nbformat": 4,
  "nbformat_minor": 0,
  "metadata": {
    "colab": {
      "name": "fuzzy_interface.ipynb",
      "provenance": [],
      "collapsed_sections": [],
      "authorship_tag": "ABX9TyOdilZWvRQhl7XabXHeF8ZZ",
      "include_colab_link": true
    },
    "kernelspec": {
      "name": "python3",
      "display_name": "Python 3"
    },
    "language_info": {
      "name": "python"
    }
  },
  "cells": [
    {
      "cell_type": "markdown",
      "metadata": {
        "id": "view-in-github",
        "colab_type": "text"
      },
      "source": [
        "<a href=\"https://colab.research.google.com/github/rivaldomrtd/TPL/blob/master/fuzzy_interface.ipynb\" target=\"_parent\"><img src=\"https://colab.research.google.com/assets/colab-badge.svg\" alt=\"Open In Colab\"/></a>"
      ]
    },
    {
      "cell_type": "code",
      "metadata": {
        "colab": {
          "base_uri": "https://localhost:8080/"
        },
        "id": "YBlXSLXOWvr_",
        "outputId": "36bf6cdd-e484-4d17-e5e4-d9fcb2382085"
      },
      "source": [
        "pip install -U scikit-fuzzy"
      ],
      "execution_count": 1,
      "outputs": [
        {
          "output_type": "stream",
          "name": "stdout",
          "text": [
            "Collecting scikit-fuzzy\n",
            "  Downloading scikit-fuzzy-0.4.2.tar.gz (993 kB)\n",
            "\u001b[?25l\r\u001b[K     |▎                               | 10 kB 18.6 MB/s eta 0:00:01\r\u001b[K     |▋                               | 20 kB 12.1 MB/s eta 0:00:01\r\u001b[K     |█                               | 30 kB 8.9 MB/s eta 0:00:01\r\u001b[K     |█▎                              | 40 kB 7.9 MB/s eta 0:00:01\r\u001b[K     |█▋                              | 51 kB 5.3 MB/s eta 0:00:01\r\u001b[K     |██                              | 61 kB 5.4 MB/s eta 0:00:01\r\u001b[K     |██▎                             | 71 kB 5.4 MB/s eta 0:00:01\r\u001b[K     |██▋                             | 81 kB 6.1 MB/s eta 0:00:01\r\u001b[K     |███                             | 92 kB 4.9 MB/s eta 0:00:01\r\u001b[K     |███▎                            | 102 kB 5.2 MB/s eta 0:00:01\r\u001b[K     |███▋                            | 112 kB 5.2 MB/s eta 0:00:01\r\u001b[K     |████                            | 122 kB 5.2 MB/s eta 0:00:01\r\u001b[K     |████▎                           | 133 kB 5.2 MB/s eta 0:00:01\r\u001b[K     |████▋                           | 143 kB 5.2 MB/s eta 0:00:01\r\u001b[K     |█████                           | 153 kB 5.2 MB/s eta 0:00:01\r\u001b[K     |█████▎                          | 163 kB 5.2 MB/s eta 0:00:01\r\u001b[K     |█████▋                          | 174 kB 5.2 MB/s eta 0:00:01\r\u001b[K     |██████                          | 184 kB 5.2 MB/s eta 0:00:01\r\u001b[K     |██████▎                         | 194 kB 5.2 MB/s eta 0:00:01\r\u001b[K     |██████▋                         | 204 kB 5.2 MB/s eta 0:00:01\r\u001b[K     |███████                         | 215 kB 5.2 MB/s eta 0:00:01\r\u001b[K     |███████▎                        | 225 kB 5.2 MB/s eta 0:00:01\r\u001b[K     |███████▋                        | 235 kB 5.2 MB/s eta 0:00:01\r\u001b[K     |████████                        | 245 kB 5.2 MB/s eta 0:00:01\r\u001b[K     |████████▎                       | 256 kB 5.2 MB/s eta 0:00:01\r\u001b[K     |████████▋                       | 266 kB 5.2 MB/s eta 0:00:01\r\u001b[K     |█████████                       | 276 kB 5.2 MB/s eta 0:00:01\r\u001b[K     |█████████▎                      | 286 kB 5.2 MB/s eta 0:00:01\r\u001b[K     |█████████▋                      | 296 kB 5.2 MB/s eta 0:00:01\r\u001b[K     |██████████                      | 307 kB 5.2 MB/s eta 0:00:01\r\u001b[K     |██████████▏                     | 317 kB 5.2 MB/s eta 0:00:01\r\u001b[K     |██████████▌                     | 327 kB 5.2 MB/s eta 0:00:01\r\u001b[K     |██████████▉                     | 337 kB 5.2 MB/s eta 0:00:01\r\u001b[K     |███████████▏                    | 348 kB 5.2 MB/s eta 0:00:01\r\u001b[K     |███████████▌                    | 358 kB 5.2 MB/s eta 0:00:01\r\u001b[K     |███████████▉                    | 368 kB 5.2 MB/s eta 0:00:01\r\u001b[K     |████████████▏                   | 378 kB 5.2 MB/s eta 0:00:01\r\u001b[K     |████████████▌                   | 389 kB 5.2 MB/s eta 0:00:01\r\u001b[K     |████████████▉                   | 399 kB 5.2 MB/s eta 0:00:01\r\u001b[K     |█████████████▏                  | 409 kB 5.2 MB/s eta 0:00:01\r\u001b[K     |█████████████▌                  | 419 kB 5.2 MB/s eta 0:00:01\r\u001b[K     |█████████████▉                  | 430 kB 5.2 MB/s eta 0:00:01\r\u001b[K     |██████████████▏                 | 440 kB 5.2 MB/s eta 0:00:01\r\u001b[K     |██████████████▌                 | 450 kB 5.2 MB/s eta 0:00:01\r\u001b[K     |██████████████▉                 | 460 kB 5.2 MB/s eta 0:00:01\r\u001b[K     |███████████████▏                | 471 kB 5.2 MB/s eta 0:00:01\r\u001b[K     |███████████████▌                | 481 kB 5.2 MB/s eta 0:00:01\r\u001b[K     |███████████████▉                | 491 kB 5.2 MB/s eta 0:00:01\r\u001b[K     |████████████████▏               | 501 kB 5.2 MB/s eta 0:00:01\r\u001b[K     |████████████████▌               | 512 kB 5.2 MB/s eta 0:00:01\r\u001b[K     |████████████████▉               | 522 kB 5.2 MB/s eta 0:00:01\r\u001b[K     |█████████████████▏              | 532 kB 5.2 MB/s eta 0:00:01\r\u001b[K     |█████████████████▌              | 542 kB 5.2 MB/s eta 0:00:01\r\u001b[K     |█████████████████▉              | 552 kB 5.2 MB/s eta 0:00:01\r\u001b[K     |██████████████████▏             | 563 kB 5.2 MB/s eta 0:00:01\r\u001b[K     |██████████████████▌             | 573 kB 5.2 MB/s eta 0:00:01\r\u001b[K     |██████████████████▉             | 583 kB 5.2 MB/s eta 0:00:01\r\u001b[K     |███████████████████▏            | 593 kB 5.2 MB/s eta 0:00:01\r\u001b[K     |███████████████████▌            | 604 kB 5.2 MB/s eta 0:00:01\r\u001b[K     |███████████████████▉            | 614 kB 5.2 MB/s eta 0:00:01\r\u001b[K     |████████████████████            | 624 kB 5.2 MB/s eta 0:00:01\r\u001b[K     |████████████████████▍           | 634 kB 5.2 MB/s eta 0:00:01\r\u001b[K     |████████████████████▊           | 645 kB 5.2 MB/s eta 0:00:01\r\u001b[K     |█████████████████████           | 655 kB 5.2 MB/s eta 0:00:01\r\u001b[K     |█████████████████████▍          | 665 kB 5.2 MB/s eta 0:00:01\r\u001b[K     |█████████████████████▊          | 675 kB 5.2 MB/s eta 0:00:01\r\u001b[K     |██████████████████████          | 686 kB 5.2 MB/s eta 0:00:01\r\u001b[K     |██████████████████████▍         | 696 kB 5.2 MB/s eta 0:00:01\r\u001b[K     |██████████████████████▊         | 706 kB 5.2 MB/s eta 0:00:01\r\u001b[K     |███████████████████████         | 716 kB 5.2 MB/s eta 0:00:01\r\u001b[K     |███████████████████████▍        | 727 kB 5.2 MB/s eta 0:00:01\r\u001b[K     |███████████████████████▊        | 737 kB 5.2 MB/s eta 0:00:01\r\u001b[K     |████████████████████████        | 747 kB 5.2 MB/s eta 0:00:01\r\u001b[K     |████████████████████████▍       | 757 kB 5.2 MB/s eta 0:00:01\r\u001b[K     |████████████████████████▊       | 768 kB 5.2 MB/s eta 0:00:01\r\u001b[K     |█████████████████████████       | 778 kB 5.2 MB/s eta 0:00:01\r\u001b[K     |█████████████████████████▍      | 788 kB 5.2 MB/s eta 0:00:01\r\u001b[K     |█████████████████████████▊      | 798 kB 5.2 MB/s eta 0:00:01\r\u001b[K     |██████████████████████████      | 808 kB 5.2 MB/s eta 0:00:01\r\u001b[K     |██████████████████████████▍     | 819 kB 5.2 MB/s eta 0:00:01\r\u001b[K     |██████████████████████████▊     | 829 kB 5.2 MB/s eta 0:00:01\r\u001b[K     |███████████████████████████     | 839 kB 5.2 MB/s eta 0:00:01\r\u001b[K     |███████████████████████████▍    | 849 kB 5.2 MB/s eta 0:00:01\r\u001b[K     |███████████████████████████▊    | 860 kB 5.2 MB/s eta 0:00:01\r\u001b[K     |████████████████████████████    | 870 kB 5.2 MB/s eta 0:00:01\r\u001b[K     |████████████████████████████▍   | 880 kB 5.2 MB/s eta 0:00:01\r\u001b[K     |████████████████████████████▊   | 890 kB 5.2 MB/s eta 0:00:01\r\u001b[K     |█████████████████████████████   | 901 kB 5.2 MB/s eta 0:00:01\r\u001b[K     |█████████████████████████████▍  | 911 kB 5.2 MB/s eta 0:00:01\r\u001b[K     |█████████████████████████████▊  | 921 kB 5.2 MB/s eta 0:00:01\r\u001b[K     |██████████████████████████████  | 931 kB 5.2 MB/s eta 0:00:01\r\u001b[K     |██████████████████████████████▎ | 942 kB 5.2 MB/s eta 0:00:01\r\u001b[K     |██████████████████████████████▋ | 952 kB 5.2 MB/s eta 0:00:01\r\u001b[K     |███████████████████████████████ | 962 kB 5.2 MB/s eta 0:00:01\r\u001b[K     |███████████████████████████████▎| 972 kB 5.2 MB/s eta 0:00:01\r\u001b[K     |███████████████████████████████▋| 983 kB 5.2 MB/s eta 0:00:01\r\u001b[K     |████████████████████████████████| 993 kB 5.2 MB/s eta 0:00:01\r\u001b[K     |████████████████████████████████| 993 kB 5.2 MB/s \n",
            "\u001b[?25hRequirement already satisfied: numpy>=1.6.0 in /usr/local/lib/python3.7/dist-packages (from scikit-fuzzy) (1.19.5)\n",
            "Requirement already satisfied: scipy>=0.9.0 in /usr/local/lib/python3.7/dist-packages (from scikit-fuzzy) (1.4.1)\n",
            "Requirement already satisfied: networkx>=1.9.0 in /usr/local/lib/python3.7/dist-packages (from scikit-fuzzy) (2.6.3)\n",
            "Building wheels for collected packages: scikit-fuzzy\n",
            "  Building wheel for scikit-fuzzy (setup.py) ... \u001b[?25l\u001b[?25hdone\n",
            "  Created wheel for scikit-fuzzy: filename=scikit_fuzzy-0.4.2-py3-none-any.whl size=894089 sha256=5a3013e43d206e3573f2cc5efa80842f13380568ce34e28cb88cd73a274363a1\n",
            "  Stored in directory: /root/.cache/pip/wheels/d5/74/fc/38588a3d2e3f34f74588e6daa3aa5b0a322bd6f9420a707131\n",
            "Successfully built scikit-fuzzy\n",
            "Installing collected packages: scikit-fuzzy\n",
            "Successfully installed scikit-fuzzy-0.4.2\n"
          ]
        }
      ]
    },
    {
      "cell_type": "markdown",
      "metadata": {
        "id": "64nTqfSBbAfG"
      },
      "source": [
        ""
      ]
    },
    {
      "cell_type": "code",
      "metadata": {
        "colab": {
          "base_uri": "https://localhost:8080/",
          "height": 318
        },
        "id": "dd9beNVcXDp4",
        "outputId": "77064ea1-5970-4fc8-fe3c-2f270a579d3a"
      },
      "source": [
        "import numpy as np\n",
        "import skfuzzy as fuzzy \n",
        "from skfuzzy import control as ctrl\n",
        "from matplotlib import pyplot as plt\n",
        "x_service = np.arange(0, 11, 0.5)\n",
        "x_food = np.arange(0, 11, 0.5)\n",
        "x_tip = np.arange(0, 30, 1.0)\n",
        "plt.title(\"fuzzy Member\")\n",
        "plt.plot(x_food,x_service,x_tip)\n",
        "\n"
      ],
      "execution_count": 108,
      "outputs": [
        {
          "output_type": "execute_result",
          "data": {
            "text/plain": [
              "[<matplotlib.lines.Line2D at 0x7f7e440d5490>,\n",
              " <matplotlib.lines.Line2D at 0x7f7e440adf50>]"
            ]
          },
          "metadata": {},
          "execution_count": 108
        },
        {
          "output_type": "display_data",
          "data": {
            "image/png": "[encoded data removed]",
            "text/plain": [
              "<Figure size 432x288 with 1 Axes>"
            ]
          },
          "metadata": {
            "needs_background": "light"
          }
        }
      ]
    },
    {
      "cell_type": "code",
      "metadata": {
        "id": "gLOJ6LQFbCVW"
      },
      "source": [
        "food = ctrl.Antecedent(x_food,\"food\")\n",
        "service = ctrl.Antecedent(x_service, 'service')\n",
        "service['poor'] = fuzzy.trimf(service.universe, [0, 0, 5])\n",
        "service['good'] = fuzzy.trimf(service.universe, [0, 5, 10])\n",
        "service['excellent'] = fuzzy.trimf(service.universe, [5, 10, 10])\n",
        "food['rancid'] = fuzzy.trimf(food.universe, [0, 0, 8])\n",
        "food['lumayan'] = fuzzy.trimf(food.universe, [0, 5, 10])\n",
        "food['delicious'] = fuzzy.trimf(food.universe, [5, 10, 10])\n"
      ],
      "execution_count": 98,
      "outputs": []
    },
    {
      "cell_type": "code",
      "metadata": {
        "id": "g2pnCAiObha3"
      },
      "source": [
        "x, y = np.meshgrid(x_service, x_food, indexing=\"ij\")\n",
        "tip_low_grid = 5.0 + x * 0.2 + y * 0.2\n",
        "tip_middle_grid = 5.0 + x * 0.5\n",
        "tip_high_grid = 5.0 + x + y\n"
      ],
      "execution_count": 99,
      "outputs": []
    },
    {
      "cell_type": "code",
      "metadata": {
        "id": "_acLZqvvb_6F"
      },
      "source": [
        "service_score = 9.8\n",
        "food_score = 6.5\n",
        "service_low_degree = fuzzy.interp_membership(x_service, service['poor'].mf, service_score)\n",
        "service_middle_degree = fuzzy.interp_membership(x_service, service['good'].mf, service_score)\n",
        "service_high_degree = fuzzy.interp_membership(x_service, service['excellent'].mf, service_score)\n",
        "food_low_degree = fuzzy.interp_membership(x_food, food['rancid'].mf, food_score)\n",
        "food_middle_degree = fuzzy.interp_membership(x_food, food['lumayan'].mf, food_score)\n",
        "food_high_degree = fuzzy.interp_membership(x_food, food['delicious'].mf, food_score)\n",
        "# bad food OR bad service\n",
        "low_degree = np.fmax(service_low_degree, food_low_degree\n",
        ")\n",
        "# medium service\n",
        "middle_degree = service_middle_degree\n",
        "# good food OR good service\n",
        "high_degree = np.fmax(service_high_degree, food_high_degree)\n"
      ],
      "execution_count": 100,
      "outputs": []
    },
    {
      "cell_type": "code",
      "metadata": {
        "id": "gCauWCCljhFk"
      },
      "source": [
        "w1 = low_degree\n",
        "w2 = middle_degree\n",
        "w3 = high_degree"
      ],
      "execution_count": 110,
      "outputs": []
    },
    {
      "cell_type": "code",
      "metadata": {
        "id": "Gt6Vf9kypO76"
      },
      "source": [
        "z1 = 5.0 + 0.2 * food_score + 0.2 * service_score\n",
        "z2 = 5.0 + 0.5 * food_score + 0.5 * service_score\n",
        "z3 = 5 + 1.0 * food_score + 1.0 * service_score\n",
        "z = (w1 * z1 + w2 * z2 + w3 * z3) / (w1 + w2 + w3)\n",
        "x_service = np.arange(0, 11, 0.5)\n",
        "x_food = np.arange(0, 11, 0.5)\n",
        "x_tip = np.arange(0, 30, 1.0)\n",
        "plt.title(\"fuzzy Member\")\n",
        "plt.plot(x_food,x_service,x_tip)"
      ],
      "execution_count": 107,
      "outputs": []
    },
    {
      "cell_type": "code",
      "metadata": {
        "colab": {
          "base_uri": "https://localhost:8080/"
        },
        "id": "mG5229pJpRe4",
        "outputId": "0f92a3ce-de47-44c2-e8f5-cd5722ad885f"
      },
      "source": [
        "print(z)"
      ],
      "execution_count": 106,
      "outputs": [
        {
          "output_type": "stream",
          "name": "stdout",
          "text": [
            "18.966526315789476\n"
          ]
        }
      ]
    }
  ]
}